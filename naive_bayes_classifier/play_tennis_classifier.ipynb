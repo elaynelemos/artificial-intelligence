{
 "cells": [
  {
   "cell_type": "code",
   "execution_count": 1,
   "id": "d4f1000d",
   "metadata": {},
   "outputs": [],
   "source": [
    "from naive_bayes_classifier import NaiveBayesClassifier"
   ]
  },
  {
   "cell_type": "code",
   "execution_count": 2,
   "id": "4419c831",
   "metadata": {},
   "outputs": [],
   "source": [
    "training_data = [\n",
    "    ['sunny', 'hot', 'high', 'weak', 'no'],\n",
    "    ['sunny', 'hot', 'high', 'strong', 'no'],\n",
    "    ['overcast', 'hot', 'high', 'weak', 'yes'],\n",
    "    ['rain', 'mild', 'high', 'weak', 'yes'],\n",
    "    ['rain', 'cool', 'normal', 'weak', 'yes'],\n",
    "    ['rain', 'cool', 'normal', 'strong', 'no'],\n",
    "    ['overcast', 'cool', 'normal', 'strong', 'yes'],\n",
    "    ['sunny', 'mild', 'high', 'weak', 'no'],\n",
    "    ['sunny', 'cool', 'normal', 'weak', 'yes'],\n",
    "    ['rain', 'mild', 'normal', 'weak', 'yes'],\n",
    "    ['sunny', 'mild', 'normal', 'strong', 'yes'],\n",
    "    ['overcast', 'mild', 'high', 'strong', 'yes'],\n",
    "    ['overcast', 'hot', 'normal', 'weak', 'yes'],\n",
    "    ['rain', 'mild', 'high', 'strong', 'no'],\n",
    "]"
   ]
  },
  {
   "cell_type": "code",
   "execution_count": 3,
   "id": "c307026a",
   "metadata": {},
   "outputs": [],
   "source": [
    "classifier = NaiveBayesClassifier(training_data)"
   ]
  },
  {
   "cell_type": "code",
   "execution_count": 9,
   "id": "d7e4ddb6",
   "metadata": {},
   "outputs": [
    {
     "name": "stdout",
     "output_type": "stream",
     "text": [
      "Play: 0.015873015873015872\n",
      "Don't play: 0.009142857142857145\n"
     ]
    },
    {
     "data": {
      "text/plain": [
       "True"
      ]
     },
     "execution_count": 9,
     "metadata": {},
     "output_type": "execute_result"
    }
   ],
   "source": [
    "classifier.will_play(outlook='rain', temperature='cool', humidity='high', wind='weak')"
   ]
  }
 ],
 "metadata": {
  "kernelspec": {
   "display_name": "Python 3",
   "language": "python",
   "name": "python3"
  },
  "language_info": {
   "codemirror_mode": {
    "name": "ipython",
    "version": 3
   },
   "file_extension": ".py",
   "mimetype": "text/x-python",
   "name": "python",
   "nbconvert_exporter": "python",
   "pygments_lexer": "ipython3",
   "version": "3.6.9"
  }
 },
 "nbformat": 4,
 "nbformat_minor": 5
}
