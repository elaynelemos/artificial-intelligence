{
 "cells": [
  {
   "cell_type": "code",
   "execution_count": null,
   "id": "d4f1000d",
   "metadata": {},
   "outputs": [],
   "source": [
    "from naive_bayes_classifier import NaiveBayesClassifier"
   ]
  },
  {
   "cell_type": "code",
   "execution_count": null,
   "id": "4419c831",
   "metadata": {},
   "outputs": [],
   "source": [
    "training_data = [\n",
    "    ['sunny', 'hot', 'high', 'weak', 'no'],\n",
    "    ['sunny', 'hot', 'high', 'strong', 'no'],\n",
    "    ['overcast', 'hot', 'high', 'weak', 'yes'],\n",
    "    ['rain', 'mild', 'high', 'weak', 'yes'],\n",
    "    ['rain', 'cool', 'normal', 'weak', 'yes'],\n",
    "    ['rain', 'cool', 'normal', 'strong', 'no'],\n",
    "    ['overcast', 'cool', 'normal', 'strong', 'yes'],\n",
    "    ['sunny', 'mild', 'high', 'weak', 'no'],\n",
    "    ['sunny', 'cool', 'normal', 'weak', 'yes'],\n",
    "    ['rain', 'mild', 'normal', 'weak', 'yes'],\n",
    "    ['sunny', 'mild', 'normal', 'strong', 'yes'],\n",
    "    ['overcast', 'mild', 'high', 'strong', 'yes'],\n",
    "    ['overcast', 'hot', 'normal', 'weak', 'yes'],\n",
    "    ['rain', 'mild', 'high', 'strong', 'no'],\n",
    "]"
   ]
  },
  {
   "cell_type": "code",
   "execution_count": null,
   "id": "c307026a",
   "metadata": {},
   "outputs": [],
   "source": [
    "classifier = NaiveBayesClassifier(training_data)"
   ]
  },
  {
   "cell_type": "code",
   "execution_count": null,
   "id": "d7e4ddb6",
   "metadata": {},
   "outputs": [],
   "source": [
    "classifier.will_play(outlook='overcast', temperature='hot', humidity='high', wind='strong')"
   ]
  }
 ],
 "metadata": {
  "kernelspec": {
   "display_name": "Python 3",
   "language": "python",
   "name": "python3"
  },
  "language_info": {
   "codemirror_mode": {
    "name": "ipython",
    "version": 3
   },
   "file_extension": ".py",
   "mimetype": "text/x-python",
   "name": "python",
   "nbconvert_exporter": "python",
   "pygments_lexer": "ipython3",
   "version": "3.6.9"
  }
 },
 "nbformat": 4,
 "nbformat_minor": 5
}
